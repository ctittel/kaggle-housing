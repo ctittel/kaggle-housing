{
 "cells": [
  {
   "cell_type": "code",
   "execution_count": 106,
   "metadata": {},
   "outputs": [],
   "source": [
    "from sklearn.metrics import mean_absolute_error\n",
    "from sklearn.metrics import mean_squared_error\n",
    "from sklearn.model_selection import train_test_split\n",
    "from sklearn import preprocessing\n",
    "\n",
    "# predictors\n",
    "from sklearn import svm\n",
    "from sklearn import linear_model\n",
    "\n",
    "import pandas as pd\n",
    "train = pd.read_csv('train.csv')\n",
    "test = pd.read_csv('test.csv')"
   ]
  },
  {
   "cell_type": "markdown",
   "metadata": {},
   "source": [
    "# Step 1: Preprocessing"
   ]
  },
  {
   "cell_type": "code",
   "execution_count": 107,
   "metadata": {},
   "outputs": [],
   "source": [
    "combine = [train, test]"
   ]
  },
  {
   "cell_type": "code",
   "execution_count": 108,
   "metadata": {},
   "outputs": [
    {
     "data": {
      "text/plain": [
       "Index(['Id', 'MSSubClass', 'MSZoning', 'LotFrontage', 'LotArea', 'Street',\n",
       "       'Alley', 'LotShape', 'LandContour', 'Utilities', 'LotConfig',\n",
       "       'LandSlope', 'Neighborhood', 'Condition1', 'Condition2', 'BldgType',\n",
       "       'HouseStyle', 'OverallQual', 'OverallCond', 'YearBuilt', 'YearRemodAdd',\n",
       "       'RoofStyle', 'RoofMatl', 'Exterior1st', 'Exterior2nd', 'MasVnrType',\n",
       "       'MasVnrArea', 'ExterQual', 'ExterCond', 'Foundation', 'BsmtQual',\n",
       "       'BsmtCond', 'BsmtExposure', 'BsmtFinType1', 'BsmtFinSF1',\n",
       "       'BsmtFinType2', 'BsmtFinSF2', 'BsmtUnfSF', 'TotalBsmtSF', 'Heating',\n",
       "       'HeatingQC', 'CentralAir', 'Electrical', '1stFlrSF', '2ndFlrSF',\n",
       "       'LowQualFinSF', 'GrLivArea', 'BsmtFullBath', 'BsmtHalfBath', 'FullBath',\n",
       "       'HalfBath', 'BedroomAbvGr', 'KitchenAbvGr', 'KitchenQual',\n",
       "       'TotRmsAbvGrd', 'Functional', 'Fireplaces', 'FireplaceQu', 'GarageType',\n",
       "       'GarageYrBlt', 'GarageFinish', 'GarageCars', 'GarageArea', 'GarageQual',\n",
       "       'GarageCond', 'PavedDrive', 'WoodDeckSF', 'OpenPorchSF',\n",
       "       'EnclosedPorch', '3SsnPorch', 'ScreenPorch', 'PoolArea', 'PoolQC',\n",
       "       'Fence', 'MiscFeature', 'MiscVal', 'MoSold', 'YrSold', 'SaleType',\n",
       "       'SaleCondition', 'SalePrice'],\n",
       "      dtype='object')"
      ]
     },
     "execution_count": 108,
     "metadata": {},
     "output_type": "execute_result"
    }
   ],
   "source": [
    "train.columns"
   ]
  },
  {
   "cell_type": "code",
   "execution_count": 136,
   "metadata": {
    "scrolled": false
   },
   "outputs": [
    {
     "data": {
      "text/plain": [
       "{'Id': dtype('int64'),\n",
       " 'MSSubClass': dtype('int64'),\n",
       " 'MSZoning': dtype('O'),\n",
       " 'LotFrontage': dtype('float64'),\n",
       " 'LotArea': dtype('int64'),\n",
       " 'Street': dtype('O'),\n",
       " 'Alley': dtype('O'),\n",
       " 'LotShape': dtype('O'),\n",
       " 'LandContour': dtype('O'),\n",
       " 'Utilities': dtype('O'),\n",
       " 'LotConfig': dtype('O'),\n",
       " 'LandSlope': dtype('O'),\n",
       " 'Neighborhood': dtype('O'),\n",
       " 'Condition1': dtype('O'),\n",
       " 'Condition2': dtype('O'),\n",
       " 'BldgType': dtype('O'),\n",
       " 'HouseStyle': dtype('O'),\n",
       " 'OverallQual': dtype('int64'),\n",
       " 'OverallCond': dtype('int64'),\n",
       " 'YearBuilt': dtype('int64'),\n",
       " 'YearRemodAdd': dtype('int64'),\n",
       " 'RoofStyle': dtype('O'),\n",
       " 'RoofMatl': dtype('O'),\n",
       " 'Exterior1st': dtype('O'),\n",
       " 'Exterior2nd': dtype('O'),\n",
       " 'MasVnrType': dtype('O'),\n",
       " 'MasVnrArea': dtype('float64'),\n",
       " 'ExterQual': dtype('O'),\n",
       " 'ExterCond': dtype('O'),\n",
       " 'Foundation': dtype('O'),\n",
       " 'BsmtQual': dtype('O'),\n",
       " 'BsmtCond': dtype('O'),\n",
       " 'BsmtExposure': dtype('O'),\n",
       " 'BsmtFinType1': dtype('O'),\n",
       " 'BsmtFinSF1': dtype('int64'),\n",
       " 'BsmtFinType2': dtype('O'),\n",
       " 'BsmtFinSF2': dtype('int64'),\n",
       " 'BsmtUnfSF': dtype('int64'),\n",
       " 'TotalBsmtSF': dtype('int64'),\n",
       " 'Heating': dtype('O'),\n",
       " 'HeatingQC': dtype('O'),\n",
       " 'CentralAir': dtype('O'),\n",
       " 'Electrical': dtype('O'),\n",
       " '1stFlrSF': dtype('int64'),\n",
       " '2ndFlrSF': dtype('int64'),\n",
       " 'LowQualFinSF': dtype('int64'),\n",
       " 'GrLivArea': dtype('int64'),\n",
       " 'BsmtFullBath': dtype('int64'),\n",
       " 'BsmtHalfBath': dtype('int64'),\n",
       " 'FullBath': dtype('int64'),\n",
       " 'HalfBath': dtype('int64'),\n",
       " 'BedroomAbvGr': dtype('int64'),\n",
       " 'KitchenAbvGr': dtype('int64'),\n",
       " 'KitchenQual': dtype('O'),\n",
       " 'TotRmsAbvGrd': dtype('int64'),\n",
       " 'Functional': dtype('O'),\n",
       " 'Fireplaces': dtype('int64'),\n",
       " 'FireplaceQu': dtype('O'),\n",
       " 'GarageType': dtype('O'),\n",
       " 'GarageYrBlt': dtype('float64'),\n",
       " 'GarageFinish': dtype('O'),\n",
       " 'GarageCars': dtype('int64'),\n",
       " 'GarageArea': dtype('int64'),\n",
       " 'GarageQual': dtype('O'),\n",
       " 'GarageCond': dtype('O'),\n",
       " 'PavedDrive': dtype('O'),\n",
       " 'WoodDeckSF': dtype('int64'),\n",
       " 'OpenPorchSF': dtype('int64'),\n",
       " 'EnclosedPorch': dtype('int64'),\n",
       " '3SsnPorch': dtype('int64'),\n",
       " 'ScreenPorch': dtype('int64'),\n",
       " 'PoolArea': dtype('int64'),\n",
       " 'PoolQC': dtype('O'),\n",
       " 'Fence': dtype('O'),\n",
       " 'MiscFeature': dtype('O'),\n",
       " 'MiscVal': dtype('int64'),\n",
       " 'MoSold': dtype('int64'),\n",
       " 'YrSold': dtype('int64'),\n",
       " 'SaleType': dtype('O'),\n",
       " 'SaleCondition': dtype('O'),\n",
       " 'SalePrice': dtype('int64'),\n",
       " 'Neighborhood_mean': dtype('float64')}"
      ]
     },
     "execution_count": 136,
     "metadata": {},
     "output_type": "execute_result"
    }
   ],
   "source": [
    "train_desc = train.describe()\n",
    "train.dtypes.to_dict()"
   ]
  },
  {
   "cell_type": "markdown",
   "metadata": {},
   "source": [
    "Now looking at all features to find the best ones:"
   ]
  },
  {
   "cell_type": "code",
   "execution_count": 110,
   "metadata": {},
   "outputs": [
    {
     "data": {
      "text/plain": [
       "1460.0"
      ]
     },
     "execution_count": 110,
     "metadata": {},
     "output_type": "execute_result"
    }
   ],
   "source": [
    "train_desc[\"MiscVal\"][\"count\"]"
   ]
  },
  {
   "cell_type": "markdown",
   "metadata": {},
   "source": [
    "## Find the relevant features\n",
    "Here we find the standard deviation of all features concerning the SalePrice.\n",
    "\n",
    "Assumption: If a feature has a low standard deviation here, it correleates strongly with SalePrice and is thus important.\n",
    "\n",
    "But we can only do this for features where the datatype is something else than double. Features with the datatype double naturally have a low standard deviation because most values are different for them.\n",
    "\n",
    "We will not combine features for now.\n",
    "So features with the following can be excluded:\n",
    "- low count (where not many data rows have values for)\n",
    "- many distinct values (but will be used later)\n",
    "- high standard deviation mean"
   ]
  },
  {
   "cell_type": "code",
   "execution_count": 160,
   "metadata": {
    "scrolled": true
   },
   "outputs": [],
   "source": [
    "std_mean = pd.DataFrame(data={'feature':[], 'std_mean':[], 'weighted_std_mean':[], 'count':[], 'distinct_values':[], 'datatype':[]})\n",
    "std_mean.set_index(\"feature\")\n",
    "for feature, datatype in train.dtypes.iteritems(): #select_dtypes(exclude=['float64','int64']):\n",
    "    if feature == \"Id\":\n",
    "        continue\n",
    "    ov = train.groupby(feature)['SalePrice'].agg(['count','std'])\n",
    "    # TODO: weighted mean\n",
    "    mean = ov['std'].mean()\n",
    "    ov[\"std_sum\"] = ov[\"count\"] * ov[\"std\"]\n",
    "    count = ov[\"count\"].sum()\n",
    "    distinct_values = ov.shape[0]\n",
    "    weighted_mean =  ov[\"std_sum\"].sum() / count\n",
    "    std_mean = std_mean.append({\"feature\":feature,\"std_mean\":mean,\"weighted_std_mean\":weighted_mean,\"count\":count,\"distinct_values\":distinct_values,'datatype':datatype},ignore_index=True)"
   ]
  },
  {
   "cell_type": "code",
   "execution_count": 161,
   "metadata": {},
   "outputs": [
    {
     "name": "stdout",
     "output_type": "stream",
     "text": [
      "Excluded features: ['LotFrontage', 'LotArea', 'Alley', 'YearBuilt', 'YearRemodAdd', 'MasVnrArea', 'BsmtFinSF1', 'BsmtFinSF2', 'BsmtUnfSF', 'TotalBsmtSF', '1stFlrSF', '2ndFlrSF', 'GrLivArea', 'GarageYrBlt', 'GarageArea', 'WoodDeckSF', 'OpenPorchSF', 'EnclosedPorch', 'ScreenPorch', 'PoolQC', 'Fence', 'MiscFeature', 'SalePrice']\n"
     ]
    },
    {
     "data": {
      "text/html": [
       "<div>\n",
       "<style scoped>\n",
       "    .dataframe tbody tr th:only-of-type {\n",
       "        vertical-align: middle;\n",
       "    }\n",
       "\n",
       "    .dataframe tbody tr th {\n",
       "        vertical-align: top;\n",
       "    }\n",
       "\n",
       "    .dataframe thead th {\n",
       "        text-align: right;\n",
       "    }\n",
       "</style>\n",
       "<table border=\"1\" class=\"dataframe\">\n",
       "  <thead>\n",
       "    <tr style=\"text-align: right;\">\n",
       "      <th></th>\n",
       "      <th>feature</th>\n",
       "      <th>std_mean</th>\n",
       "      <th>weighted_std_mean</th>\n",
       "      <th>count</th>\n",
       "      <th>distinct_values</th>\n",
       "      <th>datatype</th>\n",
       "    </tr>\n",
       "  </thead>\n",
       "  <tbody>\n",
       "    <tr>\n",
       "      <th>16</th>\n",
       "      <td>OverallQual</td>\n",
       "      <td>49593.533067</td>\n",
       "      <td>40742.442685</td>\n",
       "      <td>1460.0</td>\n",
       "      <td>10.0</td>\n",
       "      <td>int64</td>\n",
       "    </tr>\n",
       "    <tr>\n",
       "      <th>80</th>\n",
       "      <td>Neighborhood_mean</td>\n",
       "      <td>48571.130846</td>\n",
       "      <td>49039.324204</td>\n",
       "      <td>1460.0</td>\n",
       "      <td>25.0</td>\n",
       "      <td>float64</td>\n",
       "    </tr>\n",
       "    <tr>\n",
       "      <th>11</th>\n",
       "      <td>Neighborhood</td>\n",
       "      <td>48571.130846</td>\n",
       "      <td>49039.324204</td>\n",
       "      <td>1460.0</td>\n",
       "      <td>25.0</td>\n",
       "      <td>object</td>\n",
       "    </tr>\n",
       "    <tr>\n",
       "      <th>60</th>\n",
       "      <td>GarageCars</td>\n",
       "      <td>54859.864044</td>\n",
       "      <td>52063.413232</td>\n",
       "      <td>1460.0</td>\n",
       "      <td>5.0</td>\n",
       "      <td>int64</td>\n",
       "    </tr>\n",
       "    <tr>\n",
       "      <th>52</th>\n",
       "      <td>KitchenQual</td>\n",
       "      <td>64945.913412</td>\n",
       "      <td>54517.157369</td>\n",
       "      <td>1460.0</td>\n",
       "      <td>4.0</td>\n",
       "      <td>object</td>\n",
       "    </tr>\n",
       "    <tr>\n",
       "      <th>26</th>\n",
       "      <td>ExterQual</td>\n",
       "      <td>67472.218149</td>\n",
       "      <td>54678.135679</td>\n",
       "      <td>1460.0</td>\n",
       "      <td>4.0</td>\n",
       "      <td>object</td>\n",
       "    </tr>\n",
       "    <tr>\n",
       "      <th>29</th>\n",
       "      <td>BsmtQual</td>\n",
       "      <td>62402.133566</td>\n",
       "      <td>55565.221640</td>\n",
       "      <td>1423.0</td>\n",
       "      <td>4.0</td>\n",
       "      <td>object</td>\n",
       "    </tr>\n",
       "    <tr>\n",
       "      <th>48</th>\n",
       "      <td>FullBath</td>\n",
       "      <td>96320.287756</td>\n",
       "      <td>61001.593173</td>\n",
       "      <td>1460.0</td>\n",
       "      <td>4.0</td>\n",
       "      <td>int64</td>\n",
       "    </tr>\n",
       "    <tr>\n",
       "      <th>53</th>\n",
       "      <td>TotRmsAbvGrd</td>\n",
       "      <td>86341.239777</td>\n",
       "      <td>62242.638262</td>\n",
       "      <td>1460.0</td>\n",
       "      <td>12.0</td>\n",
       "      <td>int64</td>\n",
       "    </tr>\n",
       "    <tr>\n",
       "      <th>59</th>\n",
       "      <td>GarageFinish</td>\n",
       "      <td>68998.447987</td>\n",
       "      <td>64593.201079</td>\n",
       "      <td>1379.0</td>\n",
       "      <td>3.0</td>\n",
       "      <td>object</td>\n",
       "    </tr>\n",
       "    <tr>\n",
       "      <th>0</th>\n",
       "      <td>MSSubClass</td>\n",
       "      <td>49546.495954</td>\n",
       "      <td>65776.128304</td>\n",
       "      <td>1460.0</td>\n",
       "      <td>15.0</td>\n",
       "      <td>int64</td>\n",
       "    </tr>\n",
       "    <tr>\n",
       "      <th>28</th>\n",
       "      <td>Foundation</td>\n",
       "      <td>59870.031389</td>\n",
       "      <td>65927.671371</td>\n",
       "      <td>1460.0</td>\n",
       "      <td>6.0</td>\n",
       "      <td>object</td>\n",
       "    </tr>\n",
       "    <tr>\n",
       "      <th>55</th>\n",
       "      <td>Fireplaces</td>\n",
       "      <td>83671.849704</td>\n",
       "      <td>65957.648217</td>\n",
       "      <td>1460.0</td>\n",
       "      <td>4.0</td>\n",
       "      <td>int64</td>\n",
       "    </tr>\n",
       "    <tr>\n",
       "      <th>57</th>\n",
       "      <td>GarageType</td>\n",
       "      <td>57381.926966</td>\n",
       "      <td>68005.098199</td>\n",
       "      <td>1379.0</td>\n",
       "      <td>6.0</td>\n",
       "      <td>object</td>\n",
       "    </tr>\n",
       "    <tr>\n",
       "      <th>39</th>\n",
       "      <td>HeatingQC</td>\n",
       "      <td>59481.682291</td>\n",
       "      <td>68662.791748</td>\n",
       "      <td>1460.0</td>\n",
       "      <td>5.0</td>\n",
       "      <td>object</td>\n",
       "    </tr>\n",
       "    <tr>\n",
       "      <th>32</th>\n",
       "      <td>BsmtFinType1</td>\n",
       "      <td>59988.061451</td>\n",
       "      <td>68957.592325</td>\n",
       "      <td>1423.0</td>\n",
       "      <td>6.0</td>\n",
       "      <td>object</td>\n",
       "    </tr>\n",
       "    <tr>\n",
       "      <th>24</th>\n",
       "      <td>MasVnrType</td>\n",
       "      <td>72012.574140</td>\n",
       "      <td>70301.276505</td>\n",
       "      <td>1452.0</td>\n",
       "      <td>4.0</td>\n",
       "      <td>object</td>\n",
       "    </tr>\n",
       "    <tr>\n",
       "      <th>23</th>\n",
       "      <td>Exterior2nd</td>\n",
       "      <td>75928.507787</td>\n",
       "      <td>70948.959805</td>\n",
       "      <td>1460.0</td>\n",
       "      <td>16.0</td>\n",
       "      <td>object</td>\n",
       "    </tr>\n",
       "    <tr>\n",
       "      <th>22</th>\n",
       "      <td>Exterior1st</td>\n",
       "      <td>64267.263310</td>\n",
       "      <td>71612.601940</td>\n",
       "      <td>1460.0</td>\n",
       "      <td>15.0</td>\n",
       "      <td>object</td>\n",
       "    </tr>\n",
       "    <tr>\n",
       "      <th>31</th>\n",
       "      <td>BsmtExposure</td>\n",
       "      <td>86402.586250</td>\n",
       "      <td>71862.099159</td>\n",
       "      <td>1422.0</td>\n",
       "      <td>4.0</td>\n",
       "      <td>object</td>\n",
       "    </tr>\n",
       "    <tr>\n",
       "      <th>17</th>\n",
       "      <td>OverallCond</td>\n",
       "      <td>71662.803480</td>\n",
       "      <td>72663.410023</td>\n",
       "      <td>1460.0</td>\n",
       "      <td>9.0</td>\n",
       "      <td>int64</td>\n",
       "    </tr>\n",
       "    <tr>\n",
       "      <th>77</th>\n",
       "      <td>SaleType</td>\n",
       "      <td>75523.809357</td>\n",
       "      <td>73201.647117</td>\n",
       "      <td>1460.0</td>\n",
       "      <td>9.0</td>\n",
       "      <td>object</td>\n",
       "    </tr>\n",
       "    <tr>\n",
       "      <th>78</th>\n",
       "      <td>SaleCondition</td>\n",
       "      <td>69103.708022</td>\n",
       "      <td>73230.049704</td>\n",
       "      <td>1460.0</td>\n",
       "      <td>6.0</td>\n",
       "      <td>object</td>\n",
       "    </tr>\n",
       "    <tr>\n",
       "      <th>1</th>\n",
       "      <td>MSZoning</td>\n",
       "      <td>50232.580737</td>\n",
       "      <td>73872.021981</td>\n",
       "      <td>1460.0</td>\n",
       "      <td>5.0</td>\n",
       "      <td>object</td>\n",
       "    </tr>\n",
       "    <tr>\n",
       "      <th>15</th>\n",
       "      <td>HouseStyle</td>\n",
       "      <td>61080.188378</td>\n",
       "      <td>74452.268928</td>\n",
       "      <td>1460.0</td>\n",
       "      <td>8.0</td>\n",
       "      <td>object</td>\n",
       "    </tr>\n",
       "  </tbody>\n",
       "</table>\n",
       "</div>"
      ],
      "text/plain": [
       "              feature      std_mean  weighted_std_mean   count  \\\n",
       "16        OverallQual  49593.533067       40742.442685  1460.0   \n",
       "80  Neighborhood_mean  48571.130846       49039.324204  1460.0   \n",
       "11       Neighborhood  48571.130846       49039.324204  1460.0   \n",
       "60         GarageCars  54859.864044       52063.413232  1460.0   \n",
       "52        KitchenQual  64945.913412       54517.157369  1460.0   \n",
       "26          ExterQual  67472.218149       54678.135679  1460.0   \n",
       "29           BsmtQual  62402.133566       55565.221640  1423.0   \n",
       "48           FullBath  96320.287756       61001.593173  1460.0   \n",
       "53       TotRmsAbvGrd  86341.239777       62242.638262  1460.0   \n",
       "59       GarageFinish  68998.447987       64593.201079  1379.0   \n",
       "0          MSSubClass  49546.495954       65776.128304  1460.0   \n",
       "28         Foundation  59870.031389       65927.671371  1460.0   \n",
       "55         Fireplaces  83671.849704       65957.648217  1460.0   \n",
       "57         GarageType  57381.926966       68005.098199  1379.0   \n",
       "39          HeatingQC  59481.682291       68662.791748  1460.0   \n",
       "32       BsmtFinType1  59988.061451       68957.592325  1423.0   \n",
       "24         MasVnrType  72012.574140       70301.276505  1452.0   \n",
       "23        Exterior2nd  75928.507787       70948.959805  1460.0   \n",
       "22        Exterior1st  64267.263310       71612.601940  1460.0   \n",
       "31       BsmtExposure  86402.586250       71862.099159  1422.0   \n",
       "17        OverallCond  71662.803480       72663.410023  1460.0   \n",
       "77           SaleType  75523.809357       73201.647117  1460.0   \n",
       "78      SaleCondition  69103.708022       73230.049704  1460.0   \n",
       "1            MSZoning  50232.580737       73872.021981  1460.0   \n",
       "15         HouseStyle  61080.188378       74452.268928  1460.0   \n",
       "\n",
       "    distinct_values datatype  \n",
       "16             10.0    int64  \n",
       "80             25.0  float64  \n",
       "11             25.0   object  \n",
       "60              5.0    int64  \n",
       "52              4.0   object  \n",
       "26              4.0   object  \n",
       "29              4.0   object  \n",
       "48              4.0    int64  \n",
       "53             12.0    int64  \n",
       "59              3.0   object  \n",
       "0              15.0    int64  \n",
       "28              6.0   object  \n",
       "55              4.0    int64  \n",
       "57              6.0   object  \n",
       "39              5.0   object  \n",
       "32              6.0   object  \n",
       "24              4.0   object  \n",
       "23             16.0   object  \n",
       "22             15.0   object  \n",
       "31              4.0   object  \n",
       "17              9.0    int64  \n",
       "77              9.0   object  \n",
       "78              6.0   object  \n",
       "1               5.0   object  \n",
       "15              8.0   object  "
      ]
     },
     "execution_count": 161,
     "metadata": {},
     "output_type": "execute_result"
    }
   ],
   "source": [
    "excluded_features = []\n",
    "min_count = 750\n",
    "max_distinct_values = 50\n",
    "for feature, values in std_mean.iterrows():\n",
    "    if values[\"count\"] <= min_count or values[\"distinct_values\"] >= max_distinct_values:\n",
    "        excluded_features.append(values[\"feature\"])\n",
    "# remove rows where count is too low\n",
    "std_mean = std_mean[std_mean[\"count\"] > min_count]\n",
    "# remove rows with too few distinct_values\n",
    "std_mean = std_mean[std_mean[\"distinct_values\"] < max_distinct_values]\n",
    "\n",
    "print(\"Excluded features: {}\".format(excluded_features))\n",
    "std_mean.sort_values(by='weighted_std_mean').head(25)"
   ]
  },
  {
   "cell_type": "markdown",
   "metadata": {},
   "source": [
    "**What is done here:**\n",
    "- for every feature:\n",
    "    - the values of the feature get grouped together and a new column for the standard deviation is created\n",
    "    - the average of the standard deviation is listed as \"std_mean\" in the table above\n",
    "    - the weighted mean of the standard deviation (taking the count of each value into account) is listed under \"weighted_mean\" above\n",
    "\n",
    "Lower values in the \"weighted_mean\" column indicate more important features as the correlation between these features and the price is higher.\n",
    "\n",
    "In the following we will look at the most important features and take them into account in the following."
   ]
  },
  {
   "cell_type": "markdown",
   "metadata": {},
   "source": [
    "## Neighborhood"
   ]
  },
  {
   "cell_type": "code",
   "execution_count": 118,
   "metadata": {
    "scrolled": false
   },
   "outputs": [
    {
     "data": {
      "text/html": [
       "<div>\n",
       "<style scoped>\n",
       "    .dataframe tbody tr th:only-of-type {\n",
       "        vertical-align: middle;\n",
       "    }\n",
       "\n",
       "    .dataframe tbody tr th {\n",
       "        vertical-align: top;\n",
       "    }\n",
       "\n",
       "    .dataframe thead th {\n",
       "        text-align: right;\n",
       "    }\n",
       "</style>\n",
       "<table border=\"1\" class=\"dataframe\">\n",
       "  <thead>\n",
       "    <tr style=\"text-align: right;\">\n",
       "      <th></th>\n",
       "      <th>Neighborhood</th>\n",
       "      <th>count</th>\n",
       "      <th>mean</th>\n",
       "      <th>std</th>\n",
       "    </tr>\n",
       "  </thead>\n",
       "  <tbody>\n",
       "    <tr>\n",
       "      <th>0</th>\n",
       "      <td>NoRidge</td>\n",
       "      <td>41</td>\n",
       "      <td>335295.317073</td>\n",
       "      <td>121412.658640</td>\n",
       "    </tr>\n",
       "    <tr>\n",
       "      <th>1</th>\n",
       "      <td>NridgHt</td>\n",
       "      <td>77</td>\n",
       "      <td>316270.623377</td>\n",
       "      <td>96392.544954</td>\n",
       "    </tr>\n",
       "    <tr>\n",
       "      <th>2</th>\n",
       "      <td>StoneBr</td>\n",
       "      <td>25</td>\n",
       "      <td>310499.000000</td>\n",
       "      <td>112969.676640</td>\n",
       "    </tr>\n",
       "    <tr>\n",
       "      <th>3</th>\n",
       "      <td>Timber</td>\n",
       "      <td>38</td>\n",
       "      <td>242247.447368</td>\n",
       "      <td>64845.651549</td>\n",
       "    </tr>\n",
       "    <tr>\n",
       "      <th>4</th>\n",
       "      <td>Veenker</td>\n",
       "      <td>11</td>\n",
       "      <td>238772.727273</td>\n",
       "      <td>72369.317959</td>\n",
       "    </tr>\n",
       "  </tbody>\n",
       "</table>\n",
       "</div>"
      ],
      "text/plain": [
       "  Neighborhood  count           mean            std\n",
       "0      NoRidge     41  335295.317073  121412.658640\n",
       "1      NridgHt     77  316270.623377   96392.544954\n",
       "2      StoneBr     25  310499.000000  112969.676640\n",
       "3       Timber     38  242247.447368   64845.651549\n",
       "4      Veenker     11  238772.727273   72369.317959"
      ]
     },
     "execution_count": 118,
     "metadata": {},
     "output_type": "execute_result"
    }
   ],
   "source": [
    "# train[['Neighborhood', 'SalePrice']].groupby(['Neighborhood'], as_index=False).mean().sort_values(by='SalePrice', ascending=False)\n",
    "ov = train.groupby('Neighborhood')['SalePrice'].agg(['count','mean','std']).sort_values(by='mean', ascending=False).reset_index()\n",
    "ov.head()"
   ]
  },
  {
   "cell_type": "markdown",
   "metadata": {},
   "source": [
    "The standard deviatiation is quite low for some neighborhoods, so this gives a good hint of how high the price there is. Will replace the Neighborhood name by the mean for now. In some cases this feature is very good because the deviation is not that high."
   ]
  },
  {
   "cell_type": "code",
   "execution_count": 119,
   "metadata": {},
   "outputs": [],
   "source": [
    "# series to dict:\n",
    "neighborhood_dict = ov[[\"Neighborhood\",\"mean\"]].set_index('Neighborhood').to_dict()['mean']"
   ]
  },
  {
   "cell_type": "code",
   "execution_count": 120,
   "metadata": {},
   "outputs": [],
   "source": [
    "for dataset in combine:\n",
    "    dataset['Neighborhood_mean'] = dataset['Neighborhood'].map(neighborhood_dict)"
   ]
  },
  {
   "cell_type": "markdown",
   "metadata": {},
   "source": [
    "## Create the sets and normalize"
   ]
  },
  {
   "cell_type": "code",
   "execution_count": 123,
   "metadata": {},
   "outputs": [],
   "source": [
    "# for now (simplicity):\n",
    "features = [\"LotArea\",\"YearRemodAdd\",\"PoolArea\",\"OverallQual\",\"OverallCond\",\"Neighborhood_mean\",\"GarageCars\"]\n",
    "X = train[features]\n",
    "y = train[\"SalePrice\"]\n",
    "X_train, X_test, y_train, y_test = train_test_split(X, y)"
   ]
  },
  {
   "cell_type": "markdown",
   "metadata": {},
   "source": [
    "# Step 2: test different models and find the best one"
   ]
  },
  {
   "cell_type": "markdown",
   "metadata": {},
   "source": [
    "## Linear SVR"
   ]
  },
  {
   "cell_type": "code",
   "execution_count": 126,
   "metadata": {},
   "outputs": [
    {
     "name": "stdout",
     "output_type": "stream",
     "text": [
      "31872.499419771044\n",
      "2542250266.8572183\n"
     ]
    }
   ],
   "source": [
    "clf = svm.SVR(kernel = 'linear')\n",
    "clf.fit(X_train,y_train)\n",
    "clf_predictions = clf.predict(X_test)\n",
    "absolute_error = mean_absolute_error(y_test,clf_predictions)\n",
    "squared_error = mean_squared_error(y_test,clf_predictions)\n",
    "print(absolute_error)\n",
    "print(squared_error)"
   ]
  },
  {
   "cell_type": "markdown",
   "metadata": {},
   "source": [
    "## Ridge Regression"
   ]
  },
  {
   "cell_type": "code",
   "execution_count": 124,
   "metadata": {},
   "outputs": [
    {
     "name": "stdout",
     "output_type": "stream",
     "text": [
      "28946.226093075005\n",
      "1752887928.4598505\n"
     ]
    }
   ],
   "source": [
    "reg = linear_model.Ridge(alpha=.5)\n",
    "reg.fit(X_train,y_train)\n",
    "reg_predictions = reg.predict(X_test)\n",
    "absolute_error = mean_absolute_error(y_test,reg_predictions)\n",
    "squared_error = mean_squared_error(y_test,reg_predictions)\n",
    "print(absolute_error)\n",
    "print(squared_error)"
   ]
  },
  {
   "cell_type": "code",
   "execution_count": null,
   "metadata": {},
   "outputs": [],
   "source": []
  }
 ],
 "metadata": {
  "kernelspec": {
   "display_name": "Python 3",
   "language": "python",
   "name": "python3"
  },
  "language_info": {
   "codemirror_mode": {
    "name": "ipython",
    "version": 3
   },
   "file_extension": ".py",
   "mimetype": "text/x-python",
   "name": "python",
   "nbconvert_exporter": "python",
   "pygments_lexer": "ipython3",
   "version": "3.7.2"
  }
 },
 "nbformat": 4,
 "nbformat_minor": 2
}
