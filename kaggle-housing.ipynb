{
 "cells": [
  {
   "cell_type": "code",
   "execution_count": 138,
   "metadata": {},
   "outputs": [],
   "source": [
    "from sklearn.metrics import mean_absolute_error\n",
    "from sklearn.metrics import mean_squared_error\n",
    "from sklearn.model_selection import train_test_split\n",
    "from sklearn import preprocessing\n",
    "\n",
    "# predictors\n",
    "from sklearn import svm\n",
    "from sklearn import linear_model\n",
    "\n",
    "import pandas as pd\n",
    "train = pd.read_csv('train.csv')\n",
    "test = pd.read_csv('test.csv')"
   ]
  },
  {
   "cell_type": "markdown",
   "metadata": {},
   "source": [
    "# Step 1: Preprocessing"
   ]
  },
  {
   "cell_type": "code",
   "execution_count": 139,
   "metadata": {},
   "outputs": [],
   "source": [
    "combine = [train, test]"
   ]
  },
  {
   "cell_type": "code",
   "execution_count": 140,
   "metadata": {},
   "outputs": [
    {
     "data": {
      "text/plain": [
       "Index(['Id', 'MSSubClass', 'MSZoning', 'LotFrontage', 'LotArea', 'Street',\n",
       "       'Alley', 'LotShape', 'LandContour', 'Utilities', 'LotConfig',\n",
       "       'LandSlope', 'Neighborhood', 'Condition1', 'Condition2', 'BldgType',\n",
       "       'HouseStyle', 'OverallQual', 'OverallCond', 'YearBuilt', 'YearRemodAdd',\n",
       "       'RoofStyle', 'RoofMatl', 'Exterior1st', 'Exterior2nd', 'MasVnrType',\n",
       "       'MasVnrArea', 'ExterQual', 'ExterCond', 'Foundation', 'BsmtQual',\n",
       "       'BsmtCond', 'BsmtExposure', 'BsmtFinType1', 'BsmtFinSF1',\n",
       "       'BsmtFinType2', 'BsmtFinSF2', 'BsmtUnfSF', 'TotalBsmtSF', 'Heating',\n",
       "       'HeatingQC', 'CentralAir', 'Electrical', '1stFlrSF', '2ndFlrSF',\n",
       "       'LowQualFinSF', 'GrLivArea', 'BsmtFullBath', 'BsmtHalfBath', 'FullBath',\n",
       "       'HalfBath', 'BedroomAbvGr', 'KitchenAbvGr', 'KitchenQual',\n",
       "       'TotRmsAbvGrd', 'Functional', 'Fireplaces', 'FireplaceQu', 'GarageType',\n",
       "       'GarageYrBlt', 'GarageFinish', 'GarageCars', 'GarageArea', 'GarageQual',\n",
       "       'GarageCond', 'PavedDrive', 'WoodDeckSF', 'OpenPorchSF',\n",
       "       'EnclosedPorch', '3SsnPorch', 'ScreenPorch', 'PoolArea', 'PoolQC',\n",
       "       'Fence', 'MiscFeature', 'MiscVal', 'MoSold', 'YrSold', 'SaleType',\n",
       "       'SaleCondition', 'SalePrice'],\n",
       "      dtype='object')"
      ]
     },
     "execution_count": 140,
     "metadata": {},
     "output_type": "execute_result"
    }
   ],
   "source": [
    "train.columns"
   ]
  },
  {
   "cell_type": "code",
   "execution_count": 141,
   "metadata": {
    "scrolled": false
   },
   "outputs": [],
   "source": [
    "# train_desc = train.describe()\n",
    "# train.dtypes.to_dict()"
   ]
  },
  {
   "cell_type": "markdown",
   "metadata": {},
   "source": [
    "Now looking at all features to find the best ones:"
   ]
  },
  {
   "cell_type": "markdown",
   "metadata": {},
   "source": [
    "## Find the relevant features\n",
    "Here we find the standard deviation of all features concerning the SalePrice.\n",
    "\n",
    "Assumption: If a feature has a low standard deviation here, it correleates strongly with SalePrice and is thus important.\n",
    "\n",
    "But we can only do this for features where the datatype is something else than double. Features with the datatype double naturally have a low standard deviation because most values are different for them.\n",
    "\n",
    "We will not combine features for now.\n",
    "So features with the following can be excluded:\n",
    "- low count (where not many data rows have values for)\n",
    "- many distinct values (but will be used later)\n",
    "- high standard deviation mean"
   ]
  },
  {
   "cell_type": "code",
   "execution_count": 142,
   "metadata": {},
   "outputs": [],
   "source": [
    "good_features = []"
   ]
  },
  {
   "cell_type": "code",
   "execution_count": 143,
   "metadata": {
    "scrolled": true
   },
   "outputs": [],
   "source": [
    "feature_inspection_table = pd.DataFrame(data={'feature':[], 'std_mean':[], 'weighted_std_mean':[], 'count':[], 'distinct_values':[], 'datatype':[]})\n",
    "feature_inspection_table.set_index(\"feature\")\n",
    "for feature, datatype in train.dtypes.iteritems(): #select_dtypes(exclude=['float64','int64']):\n",
    "    if feature == \"Id\":\n",
    "        continue\n",
    "    ov = train.groupby(feature)['SalePrice'].agg(['count','std'])\n",
    "    # TODO: weighted mean\n",
    "    mean = ov['std'].mean()\n",
    "    ov[\"std_sum\"] = ov[\"count\"] * ov[\"std\"]\n",
    "    count = ov[\"count\"].sum()\n",
    "    distinct_values = ov.shape[0]\n",
    "    weighted_mean =  ov[\"std_sum\"].sum() / count\n",
    "    feature_inspection_table = feature_inspection_table.append({\"feature\":feature,\"std_mean\":mean,\"weighted_std_mean\":weighted_mean,\"count\":count,\"distinct_values\":distinct_values,'datatype':datatype},ignore_index=True)"
   ]
  },
  {
   "cell_type": "code",
   "execution_count": 144,
   "metadata": {},
   "outputs": [
    {
     "name": "stdout",
     "output_type": "stream",
     "text": [
      "Excluded features: ['LotFrontage', 'LotArea', 'Alley', 'YearBuilt', 'YearRemodAdd', 'MasVnrArea', 'BsmtFinSF1', 'BsmtFinSF2', 'BsmtUnfSF', 'TotalBsmtSF', '1stFlrSF', '2ndFlrSF', 'GrLivArea', 'GarageYrBlt', 'GarageArea', 'WoodDeckSF', 'OpenPorchSF', 'EnclosedPorch', 'ScreenPorch', 'PoolQC', 'Fence', 'MiscFeature', 'SalePrice']\n"
     ]
    },
    {
     "data": {
      "text/html": [
       "<div>\n",
       "<style scoped>\n",
       "    .dataframe tbody tr th:only-of-type {\n",
       "        vertical-align: middle;\n",
       "    }\n",
       "\n",
       "    .dataframe tbody tr th {\n",
       "        vertical-align: top;\n",
       "    }\n",
       "\n",
       "    .dataframe thead th {\n",
       "        text-align: right;\n",
       "    }\n",
       "</style>\n",
       "<table border=\"1\" class=\"dataframe\">\n",
       "  <thead>\n",
       "    <tr style=\"text-align: right;\">\n",
       "      <th></th>\n",
       "      <th>feature</th>\n",
       "      <th>std_mean</th>\n",
       "      <th>weighted_std_mean</th>\n",
       "      <th>count</th>\n",
       "      <th>distinct_values</th>\n",
       "      <th>datatype</th>\n",
       "    </tr>\n",
       "  </thead>\n",
       "  <tbody>\n",
       "    <tr>\n",
       "      <th>16</th>\n",
       "      <td>OverallQual</td>\n",
       "      <td>49593.533067</td>\n",
       "      <td>40742.442685</td>\n",
       "      <td>1460.0</td>\n",
       "      <td>10.0</td>\n",
       "      <td>int64</td>\n",
       "    </tr>\n",
       "    <tr>\n",
       "      <th>11</th>\n",
       "      <td>Neighborhood</td>\n",
       "      <td>48571.130846</td>\n",
       "      <td>49039.324204</td>\n",
       "      <td>1460.0</td>\n",
       "      <td>25.0</td>\n",
       "      <td>object</td>\n",
       "    </tr>\n",
       "    <tr>\n",
       "      <th>60</th>\n",
       "      <td>GarageCars</td>\n",
       "      <td>54859.864044</td>\n",
       "      <td>52063.413232</td>\n",
       "      <td>1460.0</td>\n",
       "      <td>5.0</td>\n",
       "      <td>int64</td>\n",
       "    </tr>\n",
       "    <tr>\n",
       "      <th>52</th>\n",
       "      <td>KitchenQual</td>\n",
       "      <td>64945.913412</td>\n",
       "      <td>54517.157369</td>\n",
       "      <td>1460.0</td>\n",
       "      <td>4.0</td>\n",
       "      <td>object</td>\n",
       "    </tr>\n",
       "    <tr>\n",
       "      <th>26</th>\n",
       "      <td>ExterQual</td>\n",
       "      <td>67472.218149</td>\n",
       "      <td>54678.135679</td>\n",
       "      <td>1460.0</td>\n",
       "      <td>4.0</td>\n",
       "      <td>object</td>\n",
       "    </tr>\n",
       "    <tr>\n",
       "      <th>29</th>\n",
       "      <td>BsmtQual</td>\n",
       "      <td>62402.133566</td>\n",
       "      <td>55565.221640</td>\n",
       "      <td>1423.0</td>\n",
       "      <td>4.0</td>\n",
       "      <td>object</td>\n",
       "    </tr>\n",
       "    <tr>\n",
       "      <th>48</th>\n",
       "      <td>FullBath</td>\n",
       "      <td>96320.287756</td>\n",
       "      <td>61001.593173</td>\n",
       "      <td>1460.0</td>\n",
       "      <td>4.0</td>\n",
       "      <td>int64</td>\n",
       "    </tr>\n",
       "    <tr>\n",
       "      <th>53</th>\n",
       "      <td>TotRmsAbvGrd</td>\n",
       "      <td>86341.239777</td>\n",
       "      <td>62242.638262</td>\n",
       "      <td>1460.0</td>\n",
       "      <td>12.0</td>\n",
       "      <td>int64</td>\n",
       "    </tr>\n",
       "    <tr>\n",
       "      <th>59</th>\n",
       "      <td>GarageFinish</td>\n",
       "      <td>68998.447987</td>\n",
       "      <td>64593.201079</td>\n",
       "      <td>1379.0</td>\n",
       "      <td>3.0</td>\n",
       "      <td>object</td>\n",
       "    </tr>\n",
       "    <tr>\n",
       "      <th>0</th>\n",
       "      <td>MSSubClass</td>\n",
       "      <td>49546.495954</td>\n",
       "      <td>65776.128304</td>\n",
       "      <td>1460.0</td>\n",
       "      <td>15.0</td>\n",
       "      <td>int64</td>\n",
       "    </tr>\n",
       "    <tr>\n",
       "      <th>28</th>\n",
       "      <td>Foundation</td>\n",
       "      <td>59870.031389</td>\n",
       "      <td>65927.671371</td>\n",
       "      <td>1460.0</td>\n",
       "      <td>6.0</td>\n",
       "      <td>object</td>\n",
       "    </tr>\n",
       "    <tr>\n",
       "      <th>55</th>\n",
       "      <td>Fireplaces</td>\n",
       "      <td>83671.849704</td>\n",
       "      <td>65957.648217</td>\n",
       "      <td>1460.0</td>\n",
       "      <td>4.0</td>\n",
       "      <td>int64</td>\n",
       "    </tr>\n",
       "    <tr>\n",
       "      <th>57</th>\n",
       "      <td>GarageType</td>\n",
       "      <td>57381.926966</td>\n",
       "      <td>68005.098199</td>\n",
       "      <td>1379.0</td>\n",
       "      <td>6.0</td>\n",
       "      <td>object</td>\n",
       "    </tr>\n",
       "    <tr>\n",
       "      <th>39</th>\n",
       "      <td>HeatingQC</td>\n",
       "      <td>59481.682291</td>\n",
       "      <td>68662.791748</td>\n",
       "      <td>1460.0</td>\n",
       "      <td>5.0</td>\n",
       "      <td>object</td>\n",
       "    </tr>\n",
       "    <tr>\n",
       "      <th>32</th>\n",
       "      <td>BsmtFinType1</td>\n",
       "      <td>59988.061451</td>\n",
       "      <td>68957.592325</td>\n",
       "      <td>1423.0</td>\n",
       "      <td>6.0</td>\n",
       "      <td>object</td>\n",
       "    </tr>\n",
       "    <tr>\n",
       "      <th>24</th>\n",
       "      <td>MasVnrType</td>\n",
       "      <td>72012.574140</td>\n",
       "      <td>70301.276505</td>\n",
       "      <td>1452.0</td>\n",
       "      <td>4.0</td>\n",
       "      <td>object</td>\n",
       "    </tr>\n",
       "    <tr>\n",
       "      <th>23</th>\n",
       "      <td>Exterior2nd</td>\n",
       "      <td>75928.507787</td>\n",
       "      <td>70948.959805</td>\n",
       "      <td>1460.0</td>\n",
       "      <td>16.0</td>\n",
       "      <td>object</td>\n",
       "    </tr>\n",
       "    <tr>\n",
       "      <th>22</th>\n",
       "      <td>Exterior1st</td>\n",
       "      <td>64267.263310</td>\n",
       "      <td>71612.601940</td>\n",
       "      <td>1460.0</td>\n",
       "      <td>15.0</td>\n",
       "      <td>object</td>\n",
       "    </tr>\n",
       "    <tr>\n",
       "      <th>31</th>\n",
       "      <td>BsmtExposure</td>\n",
       "      <td>86402.586250</td>\n",
       "      <td>71862.099159</td>\n",
       "      <td>1422.0</td>\n",
       "      <td>4.0</td>\n",
       "      <td>object</td>\n",
       "    </tr>\n",
       "    <tr>\n",
       "      <th>17</th>\n",
       "      <td>OverallCond</td>\n",
       "      <td>71662.803480</td>\n",
       "      <td>72663.410023</td>\n",
       "      <td>1460.0</td>\n",
       "      <td>9.0</td>\n",
       "      <td>int64</td>\n",
       "    </tr>\n",
       "    <tr>\n",
       "      <th>77</th>\n",
       "      <td>SaleType</td>\n",
       "      <td>75523.809357</td>\n",
       "      <td>73201.647117</td>\n",
       "      <td>1460.0</td>\n",
       "      <td>9.0</td>\n",
       "      <td>object</td>\n",
       "    </tr>\n",
       "    <tr>\n",
       "      <th>78</th>\n",
       "      <td>SaleCondition</td>\n",
       "      <td>69103.708022</td>\n",
       "      <td>73230.049704</td>\n",
       "      <td>1460.0</td>\n",
       "      <td>6.0</td>\n",
       "      <td>object</td>\n",
       "    </tr>\n",
       "    <tr>\n",
       "      <th>1</th>\n",
       "      <td>MSZoning</td>\n",
       "      <td>50232.580737</td>\n",
       "      <td>73872.021981</td>\n",
       "      <td>1460.0</td>\n",
       "      <td>5.0</td>\n",
       "      <td>object</td>\n",
       "    </tr>\n",
       "    <tr>\n",
       "      <th>15</th>\n",
       "      <td>HouseStyle</td>\n",
       "      <td>61080.188378</td>\n",
       "      <td>74452.268928</td>\n",
       "      <td>1460.0</td>\n",
       "      <td>8.0</td>\n",
       "      <td>object</td>\n",
       "    </tr>\n",
       "    <tr>\n",
       "      <th>49</th>\n",
       "      <td>HalfBath</td>\n",
       "      <td>62131.761755</td>\n",
       "      <td>74905.884182</td>\n",
       "      <td>1460.0</td>\n",
       "      <td>3.0</td>\n",
       "      <td>int64</td>\n",
       "    </tr>\n",
       "  </tbody>\n",
       "</table>\n",
       "</div>"
      ],
      "text/plain": [
       "          feature      std_mean  weighted_std_mean   count  distinct_values  \\\n",
       "16    OverallQual  49593.533067       40742.442685  1460.0             10.0   \n",
       "11   Neighborhood  48571.130846       49039.324204  1460.0             25.0   \n",
       "60     GarageCars  54859.864044       52063.413232  1460.0              5.0   \n",
       "52    KitchenQual  64945.913412       54517.157369  1460.0              4.0   \n",
       "26      ExterQual  67472.218149       54678.135679  1460.0              4.0   \n",
       "29       BsmtQual  62402.133566       55565.221640  1423.0              4.0   \n",
       "48       FullBath  96320.287756       61001.593173  1460.0              4.0   \n",
       "53   TotRmsAbvGrd  86341.239777       62242.638262  1460.0             12.0   \n",
       "59   GarageFinish  68998.447987       64593.201079  1379.0              3.0   \n",
       "0      MSSubClass  49546.495954       65776.128304  1460.0             15.0   \n",
       "28     Foundation  59870.031389       65927.671371  1460.0              6.0   \n",
       "55     Fireplaces  83671.849704       65957.648217  1460.0              4.0   \n",
       "57     GarageType  57381.926966       68005.098199  1379.0              6.0   \n",
       "39      HeatingQC  59481.682291       68662.791748  1460.0              5.0   \n",
       "32   BsmtFinType1  59988.061451       68957.592325  1423.0              6.0   \n",
       "24     MasVnrType  72012.574140       70301.276505  1452.0              4.0   \n",
       "23    Exterior2nd  75928.507787       70948.959805  1460.0             16.0   \n",
       "22    Exterior1st  64267.263310       71612.601940  1460.0             15.0   \n",
       "31   BsmtExposure  86402.586250       71862.099159  1422.0              4.0   \n",
       "17    OverallCond  71662.803480       72663.410023  1460.0              9.0   \n",
       "77       SaleType  75523.809357       73201.647117  1460.0              9.0   \n",
       "78  SaleCondition  69103.708022       73230.049704  1460.0              6.0   \n",
       "1        MSZoning  50232.580737       73872.021981  1460.0              5.0   \n",
       "15     HouseStyle  61080.188378       74452.268928  1460.0              8.0   \n",
       "49       HalfBath  62131.761755       74905.884182  1460.0              3.0   \n",
       "\n",
       "   datatype  \n",
       "16    int64  \n",
       "11   object  \n",
       "60    int64  \n",
       "52   object  \n",
       "26   object  \n",
       "29   object  \n",
       "48    int64  \n",
       "53    int64  \n",
       "59   object  \n",
       "0     int64  \n",
       "28   object  \n",
       "55    int64  \n",
       "57   object  \n",
       "39   object  \n",
       "32   object  \n",
       "24   object  \n",
       "23   object  \n",
       "22   object  \n",
       "31   object  \n",
       "17    int64  \n",
       "77   object  \n",
       "78   object  \n",
       "1    object  \n",
       "15   object  \n",
       "49    int64  "
      ]
     },
     "execution_count": 144,
     "metadata": {},
     "output_type": "execute_result"
    }
   ],
   "source": [
    "excluded_features = []\n",
    "min_count = 750\n",
    "max_distinct_values = 50\n",
    "for feature, values in feature_inspection_table.iterrows():\n",
    "    if values[\"count\"] <= min_count or values[\"distinct_values\"] >= max_distinct_values:\n",
    "        excluded_features.append(values[\"feature\"])\n",
    "# remove rows where count is too low\n",
    "reduced_table = feature_inspection_table[feature_inspection_table[\"count\"] > min_count]\n",
    "# remove rows with too few distinct_values\n",
    "reduced_table = reduced_table[reduced_table[\"distinct_values\"] < max_distinct_values]\n",
    "\n",
    "print(\"Excluded features: {}\".format(excluded_features))\n",
    "reduced_table.sort_values(by='weighted_std_mean').head(25)"
   ]
  },
  {
   "cell_type": "markdown",
   "metadata": {},
   "source": [
    "**What is done here:**\n",
    "- for every feature:\n",
    "    - the values of the feature get grouped together and a new column for the standard deviation is created\n",
    "    - the average of the standard deviation is listed as \"std_mean\" in the table above\n",
    "    - the weighted mean of the standard deviation (taking the count of each value into account) is listed under \"weighted_mean\" above\n",
    "\n",
    "Lower values in the \"weighted_mean\" column indicate more important features as the correlation between these features and the price is higher.\n",
    "\n",
    "Features with too few entries or too many distinct values have been filtered from the above list but might still be useful.\n",
    "\n",
    "In the following we will look at the most important features and take them into account in the following."
   ]
  },
  {
   "cell_type": "markdown",
   "metadata": {},
   "source": [
    "## GarageCars, FullBath\n",
    "The table above shows that all of these features have a relatively low standard deviation and will thus be used without further explaination.\n",
    "\n",
    "They are integers, so can simply be added to the features that are taken into account without further preprocessing."
   ]
  },
  {
   "cell_type": "code",
   "execution_count": 145,
   "metadata": {},
   "outputs": [
    {
     "name": "stdout",
     "output_type": "stream",
     "text": [
      "Train: --- \n",
      "GarageCars    0\n",
      "FullBath      0\n",
      "dtype: int64\n",
      "Test: --- \n",
      "GarageCars    1\n",
      "FullBath      0\n",
      "dtype: int64\n"
     ]
    }
   ],
   "source": [
    "# See how many missing values we have:\n",
    "print(\"Train: --- \\n{}\".format(train.isnull().sum()[[\"GarageCars\",\"FullBath\"]]))\n",
    "print(\"Test: --- \\n{}\".format(test.isnull().sum()[[\"GarageCars\",\"FullBath\"]]))"
   ]
  },
  {
   "cell_type": "markdown",
   "metadata": {},
   "source": [
    "Thus the test set has a row where GarageCars is NaN. Lets just insert 0 there:"
   ]
  },
  {
   "cell_type": "code",
   "execution_count": 146,
   "metadata": {},
   "outputs": [],
   "source": [
    "for dataset in combine:\n",
    "    dataset[\"FullBath\"] = dataset[\"FullBath\"].fillna(value=0)\n",
    "    dataset[\"GarageCars\"] = dataset[\"GarageCars\"].fillna(value=0)"
   ]
  },
  {
   "cell_type": "code",
   "execution_count": 147,
   "metadata": {},
   "outputs": [],
   "source": [
    "good_features += [\"GarageCars\",\"FullBath\"]"
   ]
  },
  {
   "cell_type": "markdown",
   "metadata": {},
   "source": [
    "## Neighborhood\n",
    "These features also show a good correlation, but they are strings and must be converted to numbers."
   ]
  },
  {
   "cell_type": "code",
   "execution_count": 148,
   "metadata": {
    "scrolled": false
   },
   "outputs": [
    {
     "data": {
      "text/html": [
       "<div>\n",
       "<style scoped>\n",
       "    .dataframe tbody tr th:only-of-type {\n",
       "        vertical-align: middle;\n",
       "    }\n",
       "\n",
       "    .dataframe tbody tr th {\n",
       "        vertical-align: top;\n",
       "    }\n",
       "\n",
       "    .dataframe thead th {\n",
       "        text-align: right;\n",
       "    }\n",
       "</style>\n",
       "<table border=\"1\" class=\"dataframe\">\n",
       "  <thead>\n",
       "    <tr style=\"text-align: right;\">\n",
       "      <th></th>\n",
       "      <th>Neighborhood</th>\n",
       "      <th>count</th>\n",
       "      <th>mean</th>\n",
       "      <th>std</th>\n",
       "    </tr>\n",
       "  </thead>\n",
       "  <tbody>\n",
       "    <tr>\n",
       "      <th>0</th>\n",
       "      <td>NoRidge</td>\n",
       "      <td>41</td>\n",
       "      <td>335295.317073</td>\n",
       "      <td>121412.658640</td>\n",
       "    </tr>\n",
       "    <tr>\n",
       "      <th>1</th>\n",
       "      <td>NridgHt</td>\n",
       "      <td>77</td>\n",
       "      <td>316270.623377</td>\n",
       "      <td>96392.544954</td>\n",
       "    </tr>\n",
       "    <tr>\n",
       "      <th>2</th>\n",
       "      <td>StoneBr</td>\n",
       "      <td>25</td>\n",
       "      <td>310499.000000</td>\n",
       "      <td>112969.676640</td>\n",
       "    </tr>\n",
       "    <tr>\n",
       "      <th>3</th>\n",
       "      <td>Timber</td>\n",
       "      <td>38</td>\n",
       "      <td>242247.447368</td>\n",
       "      <td>64845.651549</td>\n",
       "    </tr>\n",
       "    <tr>\n",
       "      <th>4</th>\n",
       "      <td>Veenker</td>\n",
       "      <td>11</td>\n",
       "      <td>238772.727273</td>\n",
       "      <td>72369.317959</td>\n",
       "    </tr>\n",
       "  </tbody>\n",
       "</table>\n",
       "</div>"
      ],
      "text/plain": [
       "  Neighborhood  count           mean            std\n",
       "0      NoRidge     41  335295.317073  121412.658640\n",
       "1      NridgHt     77  316270.623377   96392.544954\n",
       "2      StoneBr     25  310499.000000  112969.676640\n",
       "3       Timber     38  242247.447368   64845.651549\n",
       "4      Veenker     11  238772.727273   72369.317959"
      ]
     },
     "execution_count": 148,
     "metadata": {},
     "output_type": "execute_result"
    }
   ],
   "source": [
    "train[['Neighborhood', 'SalePrice']].groupby(['Neighborhood'], as_index=False).mean().sort_values(by='SalePrice', ascending=False)\n",
    "neighborhood = train.groupby('Neighborhood')['SalePrice'].agg(['count','mean','std']).sort_values(by='mean', ascending=False).reset_index()\n",
    "neighborhood.head()"
   ]
  },
  {
   "cell_type": "markdown",
   "metadata": {},
   "source": [
    "We will just replace the neighborhood's name with the mean house price in that neighborhood. The standard deviation is quite high but we will ignore this for now."
   ]
  },
  {
   "cell_type": "code",
   "execution_count": 149,
   "metadata": {},
   "outputs": [],
   "source": [
    "# series to dict:\n",
    "neighborhood_dict = neighborhood[[\"Neighborhood\",\"mean\"]].set_index('Neighborhood').to_dict()['mean']"
   ]
  },
  {
   "cell_type": "code",
   "execution_count": 150,
   "metadata": {},
   "outputs": [],
   "source": [
    "for dataset in combine:\n",
    "    dataset['Neighborhood_mean'] = dataset['Neighborhood'].map(neighborhood_dict)\n",
    "    \n",
    "good_features.append('Neighborhood_mean')"
   ]
  },
  {
   "cell_type": "markdown",
   "metadata": {},
   "source": [
    "## KitchenQual, ExterQual, BsmtQual\n",
    "Like Neighborhood, these features have a good correlation. But here we have only 4 possible values. BsmtQual is special because some houses have no basement.\n",
    "\n",
    "The following values are possible:\n",
    "- Ex: Excellent\n",
    "- Gd: Good\n",
    "- TA: Typical / Average\n",
    "- Fa: Fair\n",
    "- Po: Poor\n",
    "\n",
    "For the basement, there is also NoValue"
   ]
  },
  {
   "cell_type": "code",
   "execution_count": 165,
   "metadata": {},
   "outputs": [
    {
     "name": "stdout",
     "output_type": "stream",
     "text": [
      "KitchenQual    0\n",
      "ExterQual      0\n",
      "BsmtQual       0\n",
      "dtype: int64\n",
      "KitchenQual    0\n",
      "ExterQual      0\n",
      "BsmtQual       0\n",
      "dtype: int64\n"
     ]
    }
   ],
   "source": [
    "qual_features = [\"KitchenQual\", \"ExterQual\", \"BsmtQual\"]\n",
    "# See how many missing values we have:\n",
    "print(train.isnull().sum()[qual_features])\n",
    "print(test.isnull().sum()[qual_features])"
   ]
  },
  {
   "cell_type": "code",
   "execution_count": 152,
   "metadata": {},
   "outputs": [
    {
     "name": "stdout",
     "output_type": "stream",
     "text": [
      "  KitchenQual  count           mean            std\n",
      "0          Ex    100  328554.670000  120862.942573\n",
      "1          Gd    586  212116.023891   64020.176702\n",
      "2          TA    735  139962.511565   38896.280336\n",
      "3          Fa     39  105565.205128   36004.254037\n",
      "  ExterQual  count           mean            std\n",
      "0        Ex     52  367360.961538  116401.264200\n",
      "1        Gd    488  231633.510246   71188.873899\n",
      "2        TA    906  144341.313466   42471.815703\n",
      "3        Fa     14   87985.214286   39826.918794\n",
      "  BsmtQual  count           mean            std\n",
      "0       Ex    121  327041.041322  113563.237392\n",
      "1       Gd    618  202688.478964   58092.364284\n",
      "2       TA    649  140759.818182   43483.265311\n",
      "3       Fa     35  115692.028571   34469.667278\n"
     ]
    }
   ],
   "source": [
    "for feature in qual_features:\n",
    "    ov = train.groupby(feature)['SalePrice'].agg(['count','mean','std']).sort_values(by='mean', ascending=False).reset_index()\n",
    "    print(ov.head())"
   ]
  },
  {
   "cell_type": "markdown",
   "metadata": {},
   "source": [
    "The simplest thing to do is to simply map the quality strings to values:\n",
    "- Ex: 5\n",
    "- Gd: 4\n",
    "- TA: 3\n",
    "- Fa: 2\n",
    "- Po: 1\n",
    "\n",
    "The question is what to do with the missing values for the basement.\n",
    "For Now I will fill in just a 3 because that seems to be the most common value."
   ]
  },
  {
   "cell_type": "code",
   "execution_count": 169,
   "metadata": {},
   "outputs": [],
   "source": [
    "qual_dict = {\"Ex\":5,\"Gd\":4,\"TA\":3,\"Fa\":2,\"Po\":1}\n",
    "for dataset in combine:\n",
    "    for feature in qual_features:\n",
    "        dataset[feature] = dataset[feature].map(qual_dict)\n",
    "        dataset[feature] = dataset[feature].fillna(value=3)\n",
    "good_features += qual_features"
   ]
  },
  {
   "cell_type": "markdown",
   "metadata": {},
   "source": [
    "## Create the sets and normalize"
   ]
  },
  {
   "cell_type": "code",
   "execution_count": 170,
   "metadata": {},
   "outputs": [
    {
     "name": "stdout",
     "output_type": "stream",
     "text": [
      "['GarageCars', 'FullBath', 'Neighborhood_mean', 'KitchenQual', 'ExterQual', 'BsmtQual', 'KitchenQual', 'ExterQual', 'BsmtQual', 'KitchenQual', 'ExterQual', 'BsmtQual', 'KitchenQual', 'ExterQual', 'BsmtQual']\n"
     ]
    }
   ],
   "source": [
    "# for now (simplicity):\n",
    "Kaggle_test = test[good_features]\n",
    "X = train[good_features]\n",
    "y = train[\"SalePrice\"]\n",
    "X_train, X_test, y_train, y_test = train_test_split(X, y)\n",
    "print(good_features)"
   ]
  },
  {
   "cell_type": "markdown",
   "metadata": {},
   "source": [
    "# Step 2: test different models and find the best one"
   ]
  },
  {
   "cell_type": "markdown",
   "metadata": {},
   "source": [
    "## Linear SVR"
   ]
  },
  {
   "cell_type": "markdown",
   "metadata": {},
   "source": [
    "clf = svm.SVR(kernel = 'linear')\n",
    "clf.fit(X_train,y_train)\n",
    "clf_predictions = clf.predict(X_test)\n",
    "absolute_error = mean_absolute_error(y_test,clf_predictions)\n",
    "squared_error = mean_squared_error(y_test,clf_predictions)\n",
    "print(absolute_error)\n",
    "print(squared_error)"
   ]
  },
  {
   "cell_type": "markdown",
   "metadata": {},
   "source": [
    "## Ridge Regression"
   ]
  },
  {
   "cell_type": "code",
   "execution_count": 171,
   "metadata": {},
   "outputs": [
    {
     "name": "stdout",
     "output_type": "stream",
     "text": [
      "33131.99017774048\n",
      "2591095580.524899\n",
      "   GarageCars  FullBath  Neighborhood_mean  KitchenQual  ExterQual  BsmtQual  \\\n",
      "0         1.0         1      145847.080000          3.0        3.0       3.0   \n",
      "1         1.0         1      145847.080000          3.0        3.0       3.0   \n",
      "2         2.0         2      192854.506329          3.0        3.0       3.0   \n",
      "3         2.0         2      192854.506329          3.0        3.0       3.0   \n",
      "4         2.0         2      310499.000000          3.0        3.0       3.0   \n",
      "\n",
      "   KitchenQual  ExterQual  BsmtQual  KitchenQual  ExterQual  BsmtQual  \\\n",
      "0          3.0        3.0       3.0          3.0        3.0       3.0   \n",
      "1          3.0        3.0       3.0          3.0        3.0       3.0   \n",
      "2          3.0        3.0       3.0          3.0        3.0       3.0   \n",
      "3          3.0        3.0       3.0          3.0        3.0       3.0   \n",
      "4          3.0        3.0       3.0          3.0        3.0       3.0   \n",
      "\n",
      "   KitchenQual  ExterQual  BsmtQual  \n",
      "0          3.0        3.0       3.0  \n",
      "1          3.0        3.0       3.0  \n",
      "2          3.0        3.0       3.0  \n",
      "3          3.0        3.0       3.0  \n",
      "4          3.0        3.0       3.0  \n",
      "      GarageCars  FullBath  Neighborhood_mean  KitchenQual  ExterQual  \\\n",
      "1385           1         1      100123.783784          3.0        3.0   \n",
      "605            2         2      145847.080000          3.0        3.0   \n",
      "1305           2         2      316270.623377          3.0        3.0   \n",
      "619            3         2      242247.447368          3.0        3.0   \n",
      "626            1         1      145847.080000          3.0        3.0   \n",
      "\n",
      "      BsmtQual  KitchenQual  ExterQual  BsmtQual  KitchenQual  ExterQual  \\\n",
      "1385       3.0          3.0        3.0       3.0          3.0        3.0   \n",
      "605        3.0          3.0        3.0       3.0          3.0        3.0   \n",
      "1305       3.0          3.0        3.0       3.0          3.0        3.0   \n",
      "619        3.0          3.0        3.0       3.0          3.0        3.0   \n",
      "626        3.0          3.0        3.0       3.0          3.0        3.0   \n",
      "\n",
      "      BsmtQual  KitchenQual  ExterQual  BsmtQual  \n",
      "1385       3.0          3.0        3.0       3.0  \n",
      "605        3.0          3.0        3.0       3.0  \n",
      "1305       3.0          3.0        3.0       3.0  \n",
      "619        3.0          3.0        3.0       3.0  \n",
      "626        3.0          3.0        3.0       3.0  \n",
      "          SalePrice\n",
      "Id                 \n",
      "1461  119665.988968\n",
      "1462  119665.988968\n",
      "1463  205389.395444\n",
      "1464  205389.395444\n",
      "1465  282236.870840\n"
     ]
    }
   ],
   "source": [
    "reg = linear_model.Ridge(alpha=.5)\n",
    "reg.fit(X_train,y_train)\n",
    "reg_predictions = reg.predict(X_test)\n",
    "absolute_error = mean_absolute_error(y_test,reg_predictions)\n",
    "squared_error = mean_squared_error(y_test,reg_predictions)\n",
    "print(absolute_error)\n",
    "print(squared_error)\n",
    "\n",
    "# predict\n",
    "print(Kaggle_test.head())\n",
    "print(X_test.head())\n",
    "final_predictions = reg.predict(Kaggle_test)\n",
    "# z = pd.DataFrame(data=final_predictions,columns=[\"SalePrice\"])\n",
    "z = pd.DataFrame(final_predictions, index=test[\"Id\"], columns=['SalePrice'])\n",
    "# z[\"Id\"] = test[\"Id\"]\n",
    "# z.set_index(\"Id\")\n",
    "print(z.head())\n",
    "z.to_csv(\"my_predictions.csv\")"
   ]
  },
  {
   "cell_type": "code",
   "execution_count": null,
   "metadata": {},
   "outputs": [],
   "source": []
  },
  {
   "cell_type": "code",
   "execution_count": null,
   "metadata": {},
   "outputs": [],
   "source": []
  }
 ],
 "metadata": {
  "kernelspec": {
   "display_name": "Python 3",
   "language": "python",
   "name": "python3"
  },
  "language_info": {
   "codemirror_mode": {
    "name": "ipython",
    "version": 3
   },
   "file_extension": ".py",
   "mimetype": "text/x-python",
   "name": "python",
   "nbconvert_exporter": "python",
   "pygments_lexer": "ipython3",
   "version": "3.7.2"
  }
 },
 "nbformat": 4,
 "nbformat_minor": 2
}
