{
 "cells": [
  {
   "cell_type": "code",
   "execution_count": 5,
   "metadata": {},
   "outputs": [],
   "source": [
    "from sklearn.metrics import mean_absolute_error\n",
    "from sklearn.metrics import mean_squared_error\n",
    "from sklearn.model_selection import train_test_split\n",
    "from sklearn import preprocessing\n",
    "\n",
    "# predictors\n",
    "from sklearn import svm\n",
    "from sklearn import linear_model\n",
    "\n",
    "import pandas as pd\n",
    "train = pd.read_csv('train.csv')\n",
    "test = pd.read_csv('test.csv')"
   ]
  },
  {
   "cell_type": "markdown",
   "metadata": {},
   "source": [
    "# Step 1: Preprocessing"
   ]
  },
  {
   "cell_type": "code",
   "execution_count": 6,
   "metadata": {},
   "outputs": [],
   "source": [
    "combine = [train, test]"
   ]
  },
  {
   "cell_type": "code",
   "execution_count": 7,
   "metadata": {},
   "outputs": [
    {
     "data": {
      "text/plain": [
       "Index(['Id', 'MSSubClass', 'MSZoning', 'LotFrontage', 'LotArea', 'Street',\n",
       "       'Alley', 'LotShape', 'LandContour', 'Utilities', 'LotConfig',\n",
       "       'LandSlope', 'Neighborhood', 'Condition1', 'Condition2', 'BldgType',\n",
       "       'HouseStyle', 'OverallQual', 'OverallCond', 'YearBuilt', 'YearRemodAdd',\n",
       "       'RoofStyle', 'RoofMatl', 'Exterior1st', 'Exterior2nd', 'MasVnrType',\n",
       "       'MasVnrArea', 'ExterQual', 'ExterCond', 'Foundation', 'BsmtQual',\n",
       "       'BsmtCond', 'BsmtExposure', 'BsmtFinType1', 'BsmtFinSF1',\n",
       "       'BsmtFinType2', 'BsmtFinSF2', 'BsmtUnfSF', 'TotalBsmtSF', 'Heating',\n",
       "       'HeatingQC', 'CentralAir', 'Electrical', '1stFlrSF', '2ndFlrSF',\n",
       "       'LowQualFinSF', 'GrLivArea', 'BsmtFullBath', 'BsmtHalfBath', 'FullBath',\n",
       "       'HalfBath', 'BedroomAbvGr', 'KitchenAbvGr', 'KitchenQual',\n",
       "       'TotRmsAbvGrd', 'Functional', 'Fireplaces', 'FireplaceQu', 'GarageType',\n",
       "       'GarageYrBlt', 'GarageFinish', 'GarageCars', 'GarageArea', 'GarageQual',\n",
       "       'GarageCond', 'PavedDrive', 'WoodDeckSF', 'OpenPorchSF',\n",
       "       'EnclosedPorch', '3SsnPorch', 'ScreenPorch', 'PoolArea', 'PoolQC',\n",
       "       'Fence', 'MiscFeature', 'MiscVal', 'MoSold', 'YrSold', 'SaleType',\n",
       "       'SaleCondition', 'SalePrice'],\n",
       "      dtype='object')"
      ]
     },
     "execution_count": 7,
     "metadata": {},
     "output_type": "execute_result"
    }
   ],
   "source": [
    "train.columns"
   ]
  },
  {
   "cell_type": "code",
   "execution_count": 77,
   "metadata": {
    "scrolled": false
   },
   "outputs": [
    {
     "data": {
      "text/plain": [
       "Id                      730.500000\n",
       "MSSubClass               56.897260\n",
       "LotFrontage              70.049958\n",
       "LotArea               10516.828082\n",
       "OverallQual               6.099315\n",
       "OverallCond               5.575342\n",
       "YearBuilt              1971.267808\n",
       "YearRemodAdd           1984.865753\n",
       "MasVnrArea              103.685262\n",
       "BsmtFinSF1              443.639726\n",
       "BsmtFinSF2               46.549315\n",
       "BsmtUnfSF               567.240411\n",
       "TotalBsmtSF            1057.429452\n",
       "1stFlrSF               1162.626712\n",
       "2ndFlrSF                346.992466\n",
       "LowQualFinSF              5.844521\n",
       "GrLivArea              1515.463699\n",
       "BsmtFullBath              0.425342\n",
       "BsmtHalfBath              0.057534\n",
       "FullBath                  1.565068\n",
       "HalfBath                  0.382877\n",
       "BedroomAbvGr              2.866438\n",
       "KitchenAbvGr              1.046575\n",
       "TotRmsAbvGrd              6.517808\n",
       "Fireplaces                0.613014\n",
       "GarageYrBlt            1978.506164\n",
       "GarageCars                1.767123\n",
       "GarageArea              472.980137\n",
       "WoodDeckSF               94.244521\n",
       "OpenPorchSF              46.660274\n",
       "EnclosedPorch            21.954110\n",
       "3SsnPorch                 3.409589\n",
       "ScreenPorch              15.060959\n",
       "PoolArea                  2.758904\n",
       "MiscVal                  43.489041\n",
       "MoSold                    6.321918\n",
       "YrSold                 2007.815753\n",
       "SalePrice            180921.195890\n",
       "Neighborhood_mean    180921.195890\n",
       "dtype: float64"
      ]
     },
     "execution_count": 77,
     "metadata": {},
     "output_type": "execute_result"
    }
   ],
   "source": [
    "train_desc = train.describe()\n",
    "train.mean()"
   ]
  },
  {
   "cell_type": "markdown",
   "metadata": {},
   "source": [
    "Now looking at all features to find the best ones:"
   ]
  },
  {
   "cell_type": "code",
   "execution_count": 55,
   "metadata": {},
   "outputs": [
    {
     "data": {
      "text/plain": [
       "1460.0"
      ]
     },
     "execution_count": 55,
     "metadata": {},
     "output_type": "execute_result"
    }
   ],
   "source": [
    "train_desc[\"MiscVal\"][\"count\"]"
   ]
  },
  {
   "cell_type": "markdown",
   "metadata": {},
   "source": [
    "## Find the relevant features"
   ]
  },
  {
   "cell_type": "markdown",
   "metadata": {},
   "source": [
    "### Looking at all features\n",
    "Here we find the standard deviation of all features concerning the SalePrice.\n",
    "\n",
    "Assumption: If a feature has a low standard deviation here, it correleates strongly with SalePrice and is thus important."
   ]
  },
  {
   "cell_type": "code",
   "execution_count": 80,
   "metadata": {
    "scrolled": true
   },
   "outputs": [
    {
     "name": "stdout",
     "output_type": "stream",
     "text": [
      "Empty DataFrame\n",
      "Columns: [feature, std_mean, count]\n",
      "Index: []\n"
     ]
    },
    {
     "data": {
      "text/html": [
       "<div>\n",
       "<style scoped>\n",
       "    .dataframe tbody tr th:only-of-type {\n",
       "        vertical-align: middle;\n",
       "    }\n",
       "\n",
       "    .dataframe tbody tr th {\n",
       "        vertical-align: top;\n",
       "    }\n",
       "\n",
       "    .dataframe thead th {\n",
       "        text-align: right;\n",
       "    }\n",
       "</style>\n",
       "<table border=\"1\" class=\"dataframe\">\n",
       "  <thead>\n",
       "    <tr style=\"text-align: right;\">\n",
       "      <th></th>\n",
       "      <th>feature</th>\n",
       "      <th>std_mean</th>\n",
       "      <th>count</th>\n",
       "    </tr>\n",
       "  </thead>\n",
       "  <tbody>\n",
       "    <tr>\n",
       "      <th>79</th>\n",
       "      <td>SalePrice</td>\n",
       "      <td>0.000000</td>\n",
       "      <td>1460.0</td>\n",
       "    </tr>\n",
       "    <tr>\n",
       "      <th>44</th>\n",
       "      <td>LowQualFinSF</td>\n",
       "      <td>30323.979345</td>\n",
       "      <td>1460.0</td>\n",
       "    </tr>\n",
       "    <tr>\n",
       "      <th>3</th>\n",
       "      <td>LotArea</td>\n",
       "      <td>33415.205623</td>\n",
       "      <td>1460.0</td>\n",
       "    </tr>\n",
       "    <tr>\n",
       "      <th>45</th>\n",
       "      <td>GrLivArea</td>\n",
       "      <td>34078.409223</td>\n",
       "      <td>1460.0</td>\n",
       "    </tr>\n",
       "    <tr>\n",
       "      <th>5</th>\n",
       "      <td>Alley</td>\n",
       "      <td>36575.577988</td>\n",
       "      <td>91.0</td>\n",
       "    </tr>\n",
       "    <tr>\n",
       "      <th>43</th>\n",
       "      <td>2ndFlrSF</td>\n",
       "      <td>36802.833769</td>\n",
       "      <td>1460.0</td>\n",
       "    </tr>\n",
       "    <tr>\n",
       "      <th>51</th>\n",
       "      <td>KitchenAbvGr</td>\n",
       "      <td>38899.522111</td>\n",
       "      <td>1460.0</td>\n",
       "    </tr>\n",
       "    <tr>\n",
       "      <th>38</th>\n",
       "      <td>Heating</td>\n",
       "      <td>39138.061841</td>\n",
       "      <td>1460.0</td>\n",
       "    </tr>\n",
       "    <tr>\n",
       "      <th>63</th>\n",
       "      <td>GarageCond</td>\n",
       "      <td>41581.133819</td>\n",
       "      <td>1379.0</td>\n",
       "    </tr>\n",
       "    <tr>\n",
       "      <th>61</th>\n",
       "      <td>GarageArea</td>\n",
       "      <td>42072.134540</td>\n",
       "      <td>1460.0</td>\n",
       "    </tr>\n",
       "    <tr>\n",
       "      <th>37</th>\n",
       "      <td>TotalBsmtSF</td>\n",
       "      <td>42911.710454</td>\n",
       "      <td>1460.0</td>\n",
       "    </tr>\n",
       "    <tr>\n",
       "      <th>67</th>\n",
       "      <td>EnclosedPorch</td>\n",
       "      <td>42980.977834</td>\n",
       "      <td>1460.0</td>\n",
       "    </tr>\n",
       "    <tr>\n",
       "      <th>33</th>\n",
       "      <td>BsmtFinSF1</td>\n",
       "      <td>43912.644279</td>\n",
       "      <td>1460.0</td>\n",
       "    </tr>\n",
       "    <tr>\n",
       "      <th>42</th>\n",
       "      <td>1stFlrSF</td>\n",
       "      <td>44669.137715</td>\n",
       "      <td>1460.0</td>\n",
       "    </tr>\n",
       "    <tr>\n",
       "      <th>73</th>\n",
       "      <td>MiscFeature</td>\n",
       "      <td>44673.556021</td>\n",
       "      <td>54.0</td>\n",
       "    </tr>\n",
       "    <tr>\n",
       "      <th>41</th>\n",
       "      <td>Electrical</td>\n",
       "      <td>45662.542347</td>\n",
       "      <td>1459.0</td>\n",
       "    </tr>\n",
       "    <tr>\n",
       "      <th>35</th>\n",
       "      <td>BsmtFinSF2</td>\n",
       "      <td>46051.482350</td>\n",
       "      <td>1460.0</td>\n",
       "    </tr>\n",
       "    <tr>\n",
       "      <th>74</th>\n",
       "      <td>MiscVal</td>\n",
       "      <td>46055.814976</td>\n",
       "      <td>1460.0</td>\n",
       "    </tr>\n",
       "    <tr>\n",
       "      <th>68</th>\n",
       "      <td>3SsnPorch</td>\n",
       "      <td>46342.836037</td>\n",
       "      <td>1460.0</td>\n",
       "    </tr>\n",
       "    <tr>\n",
       "      <th>11</th>\n",
       "      <td>Neighborhood</td>\n",
       "      <td>48571.130846</td>\n",
       "      <td>1460.0</td>\n",
       "    </tr>\n",
       "    <tr>\n",
       "      <th>80</th>\n",
       "      <td>Neighborhood_mean</td>\n",
       "      <td>48571.130846</td>\n",
       "      <td>1460.0</td>\n",
       "    </tr>\n",
       "    <tr>\n",
       "      <th>14</th>\n",
       "      <td>BldgType</td>\n",
       "      <td>49515.925655</td>\n",
       "      <td>1460.0</td>\n",
       "    </tr>\n",
       "    <tr>\n",
       "      <th>0</th>\n",
       "      <td>MSSubClass</td>\n",
       "      <td>49546.495954</td>\n",
       "      <td>1460.0</td>\n",
       "    </tr>\n",
       "    <tr>\n",
       "      <th>72</th>\n",
       "      <td>Fence</td>\n",
       "      <td>49556.924365</td>\n",
       "      <td>281.0</td>\n",
       "    </tr>\n",
       "    <tr>\n",
       "      <th>16</th>\n",
       "      <td>OverallQual</td>\n",
       "      <td>49593.533067</td>\n",
       "      <td>1460.0</td>\n",
       "    </tr>\n",
       "  </tbody>\n",
       "</table>\n",
       "</div>"
      ],
      "text/plain": [
       "              feature      std_mean   count\n",
       "79          SalePrice      0.000000  1460.0\n",
       "44       LowQualFinSF  30323.979345  1460.0\n",
       "3             LotArea  33415.205623  1460.0\n",
       "45          GrLivArea  34078.409223  1460.0\n",
       "5               Alley  36575.577988    91.0\n",
       "43           2ndFlrSF  36802.833769  1460.0\n",
       "51       KitchenAbvGr  38899.522111  1460.0\n",
       "38            Heating  39138.061841  1460.0\n",
       "63         GarageCond  41581.133819  1379.0\n",
       "61         GarageArea  42072.134540  1460.0\n",
       "37        TotalBsmtSF  42911.710454  1460.0\n",
       "67      EnclosedPorch  42980.977834  1460.0\n",
       "33         BsmtFinSF1  43912.644279  1460.0\n",
       "42           1stFlrSF  44669.137715  1460.0\n",
       "73        MiscFeature  44673.556021    54.0\n",
       "41         Electrical  45662.542347  1459.0\n",
       "35         BsmtFinSF2  46051.482350  1460.0\n",
       "74            MiscVal  46055.814976  1460.0\n",
       "68          3SsnPorch  46342.836037  1460.0\n",
       "11       Neighborhood  48571.130846  1460.0\n",
       "80  Neighborhood_mean  48571.130846  1460.0\n",
       "14           BldgType  49515.925655  1460.0\n",
       "0          MSSubClass  49546.495954  1460.0\n",
       "72              Fence  49556.924365   281.0\n",
       "16        OverallQual  49593.533067  1460.0"
      ]
     },
     "execution_count": 80,
     "metadata": {},
     "output_type": "execute_result"
    }
   ],
   "source": [
    "std_mean = pd.DataFrame(data={'feature':[], 'std_mean':[], 'count':[]})\n",
    "std_mean.set_index(\"feature\")\n",
    "print(std_mean)\n",
    "for feature in train.columns:\n",
    "    if feature == \"Id\":\n",
    "        continue\n",
    "    ov = train.groupby(feature)['SalePrice'].agg(['count','std'])\n",
    "    # TODO: weighted mean\n",
    "    mean = ov['std'].mean()\n",
    "    count = train[feature].count()\n",
    "    std_mean = std_mean.append({\"feature\":feature,\"std_mean\":mean,\"count\":count},ignore_index=True)\n",
    "std_mean.sort_values(by='std_mean').head(25)"
   ]
  },
  {
   "cell_type": "markdown",
   "metadata": {},
   "source": [
    "Lower values here indicate a lower mean in the feature concerning the standard deviation. We will now look at "
   ]
  },
  {
   "cell_type": "markdown",
   "metadata": {},
   "source": [
    "### Neighborhood"
   ]
  },
  {
   "cell_type": "code",
   "execution_count": 13,
   "metadata": {
    "scrolled": false
   },
   "outputs": [
    {
     "name": "stdout",
     "output_type": "stream",
     "text": [
      "   Neighborhood  count           mean            std\n",
      "0       NoRidge     41  335295.317073  121412.658640\n",
      "1       NridgHt     77  316270.623377   96392.544954\n",
      "2       StoneBr     25  310499.000000  112969.676640\n",
      "3        Timber     38  242247.447368   64845.651549\n",
      "4       Veenker     11  238772.727273   72369.317959\n",
      "5       Somerst     86  225379.837209   56177.555888\n",
      "6       ClearCr     28  212565.428571   50231.538993\n",
      "7       Crawfor     51  210624.725490   68866.395472\n",
      "8       CollgCr    150  197965.773333   51403.666438\n",
      "9       Blmngtn     17  194870.882353   30393.229219\n",
      "10      Gilbert     79  192854.506329   35986.779085\n",
      "11       NWAmes     73  189050.068493   37172.218106\n",
      "12      SawyerW     59  186555.796610   55651.997820\n",
      "13      Mitchel     49  156270.122449   36486.625334\n",
      "14        NAmes    225  145847.080000   33075.345450\n",
      "15      NPkVill      9  142694.444444    9377.314529\n",
      "16        SWISU     25  142591.360000   32622.917679\n",
      "17      Blueste      2  137500.000000   19091.883092\n",
      "18       Sawyer     74  136793.135135   22345.129157\n",
      "19      OldTown    113  128225.300885   52650.583185\n",
      "20      Edwards    100  128219.700000   43208.616459\n",
      "21      BrkSide     58  124834.051724   40348.689270\n",
      "22       BrDale     16  104493.750000   14330.176493\n",
      "23       IDOTRR     37  100123.783784   33376.710117\n",
      "24      MeadowV     17   98576.470588   23491.049610\n"
     ]
    }
   ],
   "source": [
    "# train[['Neighborhood', 'SalePrice']].groupby(['Neighborhood'], as_index=False).mean().sort_values(by='SalePrice', ascending=False)\n",
    "ov = train.groupby('Neighborhood')['SalePrice'].agg(['count','mean','std']).sort_values(by='mean', ascending=False).reset_index()\n",
    "print(ov)"
   ]
  },
  {
   "cell_type": "markdown",
   "metadata": {},
   "source": [
    "The standard deviatiation is quite low for some neighborhoods, so this gives a good hint of how high the price there is. Will replace the Neighborhood name by the mean for now. In some cases this feature is very good because the deviation is not that high."
   ]
  },
  {
   "cell_type": "code",
   "execution_count": 14,
   "metadata": {},
   "outputs": [],
   "source": [
    "# series to dict:\n",
    "neighborhood_dict = ov[[\"Neighborhood\",\"mean\"]].set_index('Neighborhood').to_dict()['mean']"
   ]
  },
  {
   "cell_type": "code",
   "execution_count": 15,
   "metadata": {},
   "outputs": [],
   "source": [
    "for dataset in combine:\n",
    "    dataset['Neighborhood_mean'] = dataset['Neighborhood'].map(neighborhood_dict)"
   ]
  },
  {
   "cell_type": "code",
   "execution_count": 16,
   "metadata": {},
   "outputs": [
    {
     "name": "stdout",
     "output_type": "stream",
     "text": [
      "    MoSold  count           mean            std\n",
      "0        9     63  195683.206349   83149.017391\n",
      "1       11     79  192210.911392   83517.711202\n",
      "2       12     59  186518.966102   69495.155055\n",
      "3        7    234  186331.192308   91772.125395\n",
      "4        8    122  184651.827869   73215.986647\n",
      "5        1     58  183256.258621  121381.083473\n",
      "6        3    106  183253.924528   86488.445599\n",
      "7       10     89  179563.977528   75736.008303\n",
      "8        2     52  177882.000000   52960.863135\n",
      "9        6    253  177395.735178   69453.085881\n",
      "10       5    204  172307.269608   68614.545198\n",
      "11       4    141  171503.262411   77147.323106\n"
     ]
    }
   ],
   "source": []
  },
  {
   "cell_type": "markdown",
   "metadata": {},
   "source": [
    "## Create the sets and normalize"
   ]
  },
  {
   "cell_type": "code",
   "execution_count": 125,
   "metadata": {},
   "outputs": [],
   "source": [
    "# for now (simplicity):\n",
    "features = [\"LotArea\",\"YearRemodAdd\",\"PoolArea\",\"OverallQual\",\"OverallCond\",\"Neighborhood_mean\"]\n",
    "X = train[features]\n",
    "y = train[\"SalePrice\"]\n",
    "X_train, X_test, y_train, y_test = train_test_split(X, y)"
   ]
  },
  {
   "cell_type": "markdown",
   "metadata": {},
   "source": [
    "# Step 2: test different models and find the best one"
   ]
  },
  {
   "cell_type": "markdown",
   "metadata": {},
   "source": [
    "## Linear SVR"
   ]
  },
  {
   "cell_type": "code",
   "execution_count": 126,
   "metadata": {},
   "outputs": [
    {
     "name": "stdout",
     "output_type": "stream",
     "text": [
      "31872.499419771044\n",
      "2542250266.8572183\n"
     ]
    }
   ],
   "source": [
    "clf = svm.SVR(kernel = 'linear')\n",
    "clf.fit(X_train,y_train)\n",
    "clf_predictions = clf.predict(X_test)\n",
    "absolute_error = mean_absolute_error(y_test,clf_predictions)\n",
    "squared_error = mean_squared_error(y_test,clf_predictions)\n",
    "print(absolute_error)\n",
    "print(squared_error)"
   ]
  },
  {
   "cell_type": "markdown",
   "metadata": {},
   "source": [
    "## Ridge Regression"
   ]
  },
  {
   "cell_type": "code",
   "execution_count": 128,
   "metadata": {},
   "outputs": [
    {
     "name": "stdout",
     "output_type": "stream",
     "text": [
      "27587.501003060384\n",
      "1668361830.5254564\n"
     ]
    }
   ],
   "source": [
    "reg = linear_model.Ridge(alpha=.5)\n",
    "reg.fit(X_train,y_train)\n",
    "reg_predictions = reg.predict(X_test)\n",
    "absolute_error = mean_absolute_error(y_test,reg_predictions)\n",
    "squared_error = mean_squared_error(y_test,reg_predictions)\n",
    "print(absolute_error)\n",
    "print(squared_error)"
   ]
  }
 ],
 "metadata": {
  "kernelspec": {
   "display_name": "Python 3",
   "language": "python",
   "name": "python3"
  },
  "language_info": {
   "codemirror_mode": {
    "name": "ipython",
    "version": 3
   },
   "file_extension": ".py",
   "mimetype": "text/x-python",
   "name": "python",
   "nbconvert_exporter": "python",
   "pygments_lexer": "ipython3",
   "version": "3.7.2"
  }
 },
 "nbformat": 4,
 "nbformat_minor": 2
}
